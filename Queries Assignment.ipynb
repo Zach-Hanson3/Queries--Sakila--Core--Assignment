{
 "cells": [
  {
   "cell_type": "markdown",
   "id": "13bb0c17",
   "metadata": {},
   "source": [
    "# Queries: Sakila (Core)\n",
    "- Zach Hanson\n",
    "\n"
   ]
  },
  {
   "cell_type": "markdown",
   "id": "4ef0fa8a",
   "metadata": {},
   "source": [
    "## Import Libraries"
   ]
  },
  {
   "cell_type": "code",
   "execution_count": 2,
   "id": "5145cc0b",
   "metadata": {},
   "outputs": [],
   "source": [
    "#PyMySQL to connect SQL and Python\n",
    "import pymysql\n",
    "pymysql.install_as_MySQLdb()\n",
    "\n",
    "#SQLAlchemy\n",
    "from sqlalchemy import create_engine"
   ]
  },
  {
   "cell_type": "markdown",
   "id": "e358183e",
   "metadata": {},
   "source": [
    "## Connecting SQL Server to PyMySQL and SQLAlchemy"
   ]
  },
  {
   "cell_type": "code",
   "execution_count": null,
   "id": "43648ba4",
   "metadata": {},
   "outputs": [],
   "source": [
    "username = 'root'\n",
    "password = 'root'\n",
    "db_name = 'sakila'"
   ]
  }
 ],
 "metadata": {
  "kernelspec": {
   "display_name": "Python (dojo-env)",
   "language": "python",
   "name": "dojo-env"
  },
  "language_info": {
   "codemirror_mode": {
    "name": "ipython",
    "version": 3
   },
   "file_extension": ".py",
   "mimetype": "text/x-python",
   "name": "python",
   "nbconvert_exporter": "python",
   "pygments_lexer": "ipython3",
   "version": "3.9.15"
  },
  "toc": {
   "base_numbering": 1,
   "nav_menu": {},
   "number_sections": false,
   "sideBar": true,
   "skip_h1_title": false,
   "title_cell": "Table of Contents",
   "title_sidebar": "Contents",
   "toc_cell": false,
   "toc_position": {},
   "toc_section_display": true,
   "toc_window_display": false
  }
 },
 "nbformat": 4,
 "nbformat_minor": 5
}
